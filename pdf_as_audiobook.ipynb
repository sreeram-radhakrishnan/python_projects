{
 "cells": [
  {
   "cell_type": "code",
   "execution_count": 1,
   "id": "8e0ce3b3",
   "metadata": {},
   "outputs": [],
   "source": [
    "import pyttsx3\n",
    "import PyPDF2"
   ]
  },
  {
   "cell_type": "code",
   "execution_count": 13,
   "id": "ad07b8eb",
   "metadata": {},
   "outputs": [],
   "source": [
    "pdfReader = PyPDF2.PdfFileReader(open(r'C:\\Users\\SMS\\Desktop\\cover_letter.pdf', 'rb'))\n",
    "voice = pyttsx3.init()\n",
    "for page_num in range(pdfReader.numPages):\n",
    "    textconversion =  pdfReader.getPage(page_num).extractText()\n",
    "    voices = speaker.getProperty('voices')\n",
    "    voice.setProperty('voice', voices[0].id)\n",
    "    rate = speaker.getProperty('rate')\n",
    "    voice.setProperty('rate', 125)\n",
    "    #speaker.say(text)\n",
    "    #speaker.runAndWait()\n",
    "voice.save_to_file(text, r'C:\\Users\\SMS\\Desktop\\audio1.mp3')\n",
    "voice.runAndWait()"
   ]
  },
  {
   "cell_type": "code",
   "execution_count": null,
   "id": "d484a6bd",
   "metadata": {},
   "outputs": [],
   "source": []
  }
 ],
 "metadata": {
  "kernelspec": {
   "display_name": "Python 3",
   "language": "python",
   "name": "python3"
  },
  "language_info": {
   "codemirror_mode": {
    "name": "ipython",
    "version": 3
   },
   "file_extension": ".py",
   "mimetype": "text/x-python",
   "name": "python",
   "nbconvert_exporter": "python",
   "pygments_lexer": "ipython3",
   "version": "3.8.8"
  }
 },
 "nbformat": 4,
 "nbformat_minor": 5
}